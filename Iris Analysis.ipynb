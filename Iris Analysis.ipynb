{
 "cells": [
  {
   "cell_type": "code",
   "execution_count": 24,
   "metadata": {},
   "outputs": [
    {
     "name": "stdout",
     "output_type": "stream",
     "text": [
      "[1]\n"
     ]
    }
   ],
   "source": [
    "import pandas as pd\n",
    "import seaborn as sb\n",
    "import numpy as np\n",
    "from sklearn import datasets\n",
    "from sklearn.ensemble import GradientBoostingClassifier\n",
    "from sklearn.model_selection import train_test_split\n",
    "from sklearn.externals import joblib\n",
    "\n",
    "# Load the iris data set\n",
    "iris = datasets.load_iris()\n",
    "\n",
    "# Split the data into X and y matrices\n",
    "iris_x = pd.DataFrame(iris.data, columns=iris.feature_names)\n",
    "iris_y = pd.DataFrame(iris.target, columns=['class'])\n",
    "iris_all = pd.concat([iris_x, iris_y], axis=1)\n",
    "\n",
    "# Split the data into training and testing datasets\n",
    "train_x, test_x, train_y, test_y = train_test_split(iris_x, iris_y, test_size = 0.33)\n",
    "\n",
    "# Train a GradientBoostingClassifier model on the training set\n",
    "gbc = GradientBoostingClassifier()\n",
    "gbc.fit(train_x, np.ravel(train_y))\n",
    "\n",
    "# Save the trained model to ./models/iris_gbc.pkl so that any other application can load the model and make predictions\n",
    "joblib.dump(gbc, f'./models/iris_gbc.pkl')\n",
    "\n",
    "# Save the iris dataset to a csv\n",
    "iris_all.to_csv(f'./data/iris.csv')\n"
   ]
  },
  {
   "cell_type": "code",
   "execution_count": null,
   "metadata": {},
   "outputs": [],
   "source": []
  }
 ],
 "metadata": {
  "kernelspec": {
   "display_name": "Python 3",
   "language": "python",
   "name": "python3"
  },
  "language_info": {
   "codemirror_mode": {
    "name": "ipython",
    "version": 3
   },
   "file_extension": ".py",
   "mimetype": "text/x-python",
   "name": "python",
   "nbconvert_exporter": "python",
   "pygments_lexer": "ipython3",
   "version": "3.6.5"
  }
 },
 "nbformat": 4,
 "nbformat_minor": 2
}
